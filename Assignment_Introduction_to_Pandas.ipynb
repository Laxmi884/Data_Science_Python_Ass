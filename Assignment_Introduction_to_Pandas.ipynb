{
  "nbformat": 4,
  "nbformat_minor": 0,
  "metadata": {
    "colab": {
      "provenance": [],
      "collapsed_sections": [],
      "include_colab_link": true
    },
    "kernelspec": {
      "name": "python3",
      "display_name": "Python 3"
    }
  },
  "cells": [
    {
      "cell_type": "markdown",
      "metadata": {
        "id": "view-in-github",
        "colab_type": "text"
      },
      "source": [
        "<a href=\"https://colab.research.google.com/github/Laxmi884/Data_Science_Python_Ass/blob/main/Assignment_Introduction_to_Pandas.ipynb\" target=\"_parent\"><img src=\"https://colab.research.google.com/assets/colab-badge.svg\" alt=\"Open In Colab\"/></a>"
      ]
    },
    {
      "cell_type": "markdown",
      "metadata": {
        "id": "MKXTc2Tas23T"
      },
      "source": [
        "# <u> Use only those concepts which have been taught till now </u>"
      ]
    },
    {
      "cell_type": "code",
      "metadata": {
        "id": "0V3Xtuh9siNn"
      },
      "source": [
        "import numpy as np\n",
        "import pandas as pd"
      ],
      "execution_count": null,
      "outputs": []
    },
    {
      "cell_type": "markdown",
      "metadata": {
        "id": "Ase3qjp9cJUC"
      },
      "source": [
        "# <u>**Problem 1**</u>\n",
        "\n",
        "### You are given a list of urls. You need to extract the domain name from the urls in another list. Also you need to extract the ending string which the url ends with. \n",
        "\n",
        "### For example, https://www.example.com/market.php -- In this example, domain name is <code>www.example.com</code> and the ending string is <code>php</code>\n",
        "\n"
      ]
    },
    {
      "cell_type": "code",
      "metadata": {
        "id": "xj0SaK7smcPu"
      },
      "source": [
        "# List of urls\n",
        "url_list = ['https://blog.hubspot.com/marketing/parts-url',\n",
        "            'https://www.almabetter.com/enrollments',\n",
        "            'https://pandas.pydata.org/pandas-docs/stable/reference/api/pandas.DataFrame.rename.html',\n",
        "            'https://www.programiz.com/python-programming/list']"
      ],
      "execution_count": null,
      "outputs": []
    },
    {
      "cell_type": "code",
      "metadata": {
        "id": "N1hhYCZw3V1c",
        "colab": {
          "base_uri": "https://localhost:8080/"
        },
        "outputId": "e886adf9-03ff-4adc-da51-1ddc4b6f3899"
      },
      "source": [
        "# Extract the domains and the ending string. Hint : use the split method for a string\n",
        "\n",
        "domain_list = []\n",
        "\n",
        "ending_string_list = []\n",
        "\n",
        "for i in url_list:\n",
        "  a=i.split(\"/\")\n",
        "  domain_list.append(a[2])\n",
        "  b=a[-1].split(\".\")\n",
        "  ending_string_list.append(b[-1])\n",
        "\n",
        "\n",
        "\n",
        "\n",
        "print(domain_list)\n",
        "print(ending_string_list)"
      ],
      "execution_count": null,
      "outputs": [
        {
          "output_type": "stream",
          "name": "stdout",
          "text": [
            "['blog.hubspot.com', 'www.almabetter.com', 'pandas.pydata.org', 'www.programiz.com']\n",
            "['parts-url', 'enrollments', 'html', 'list']\n"
          ]
        }
      ]
    },
    {
      "cell_type": "markdown",
      "metadata": {
        "id": "EVgY54DrvLEF"
      },
      "source": [
        "## Next create a pandas dataframe with the above three lists."
      ]
    },
    {
      "cell_type": "code",
      "metadata": {
        "id": "2osXcjvpu6Uz",
        "colab": {
          "base_uri": "https://localhost:8080/"
        },
        "outputId": "92a3d892-5fb2-41f7-9dbf-34e48cb1a7f8"
      },
      "source": [
        "# Your code here. Hint : zip the three lists\n",
        "zipped_list = list(zip(domain_list,ending_string_list))\n",
        "First_DataFrame = pd.DataFrame(zipped_list,columns=['Domain','Ending String'])\n",
        "print(First_DataFrame)\n",
        "\n"
      ],
      "execution_count": null,
      "outputs": [
        {
          "output_type": "stream",
          "name": "stdout",
          "text": [
            "               Domain Ending String\n",
            "0    blog.hubspot.com     parts-url\n",
            "1  www.almabetter.com   enrollments\n",
            "2   pandas.pydata.org          html\n",
            "3   www.programiz.com          list\n"
          ]
        }
      ]
    },
    {
      "cell_type": "code",
      "source": [],
      "metadata": {
        "id": "XCqE216ruTfw"
      },
      "execution_count": null,
      "outputs": []
    },
    {
      "cell_type": "code",
      "source": [],
      "metadata": {
        "id": "3cZxIT_0y7G2"
      },
      "execution_count": null,
      "outputs": []
    }
  ]
}