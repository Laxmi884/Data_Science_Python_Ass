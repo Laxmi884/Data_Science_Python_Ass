{
  "nbformat": 4,
  "nbformat_minor": 0,
  "metadata": {
    "colab": {
      "provenance": [],
      "collapsed_sections": [],
      "include_colab_link": true
    },
    "kernelspec": {
      "name": "python3",
      "display_name": "Python 3"
    }
  },
  "cells": [
    {
      "cell_type": "markdown",
      "metadata": {
        "id": "view-in-github",
        "colab_type": "text"
      },
      "source": [
        "<a href=\"https://colab.research.google.com/github/Laxmi884/Data_Science_Python_Ass/blob/main/Copy_of_Assignment_NumPy_Operations.ipynb\" target=\"_parent\"><img src=\"https://colab.research.google.com/assets/colab-badge.svg\" alt=\"Open In Colab\"/></a>"
      ]
    },
    {
      "cell_type": "markdown",
      "metadata": {
        "id": "MKXTc2Tas23T"
      },
      "source": [
        "# <u> Use only those concepts which have been taught till now </u>"
      ]
    },
    {
      "cell_type": "code",
      "metadata": {
        "id": "0V3Xtuh9siNn"
      },
      "source": [
        "import numpy as np"
      ],
      "execution_count": 2,
      "outputs": []
    },
    {
      "cell_type": "markdown",
      "metadata": {
        "id": "Ase3qjp9cJUC"
      },
      "source": [
        "# <u>**Problem 1**</u>\n",
        "\n",
        "### What is the average value of the first 5 rows of the third and fourth columns?\n",
        "\n"
      ]
    },
    {
      "cell_type": "code",
      "metadata": {
        "id": "xj0SaK7smcPu",
        "outputId": "9326fd93-576d-4e1e-87f6-371e7f305fc6",
        "colab": {
          "base_uri": "https://localhost:8080/"
        }
      },
      "source": [
        "np.random.seed(21) # This guarantees the code will generate the same set of random numbers whenever executed\n",
        "random_integers = np.random.randint(1,high=500000, size=(20, 5))\n",
        "random_integers"
      ],
      "execution_count": 3,
      "outputs": [
        {
          "output_type": "execute_result",
          "data": {
            "text/plain": [
              "array([[ 80842, 333008, 202553, 140037,  81969],\n",
              "       [ 63857,  42105, 261540, 481981, 176739],\n",
              "       [489984, 326386, 110795, 394863,  25024],\n",
              "       [ 38317,  49982, 408830, 485118,  16119],\n",
              "       [407675, 231729, 265455, 109413, 103399],\n",
              "       [174677, 343356, 301717, 224120, 401101],\n",
              "       [140473, 254634, 112262,  25063, 108262],\n",
              "       [375059, 406983, 208947, 115641, 296685],\n",
              "       [444899, 129585, 171318, 313094, 425041],\n",
              "       [188411, 335140, 141681,  59641, 211420],\n",
              "       [287650,   8973, 477425, 382803, 465168],\n",
              "       [  3975,  32213, 160603, 275485, 388234],\n",
              "       [246225,  56174, 244097,   9350, 496966],\n",
              "       [225516, 273338,  73335, 283013, 212813],\n",
              "       [ 38175, 282399, 318413, 337639, 379802],\n",
              "       [198049, 101115, 419547, 260219, 325793],\n",
              "       [148593, 425024, 348570, 117968, 107007],\n",
              "       [ 52547, 180346, 178760, 305186, 262153],\n",
              "       [ 11835, 449971, 494184, 472031, 353049],\n",
              "       [476442,  35455, 191553, 384154,  29917]])"
            ]
          },
          "metadata": {},
          "execution_count": 3
        }
      ]
    },
    {
      "cell_type": "code",
      "metadata": {
        "id": "N1hhYCZw3V1c",
        "colab": {
          "base_uri": "https://localhost:8080/"
        },
        "outputId": "d58d0c14-2866-4702-ed3f-768cdd89cdc1"
      },
      "source": [
        "# Your code here\n",
        "\n",
        "a= random_integers[0:5,2:4]\n",
        "a.mean()\n"
      ],
      "execution_count": 4,
      "outputs": [
        {
          "output_type": "execute_result",
          "data": {
            "text/plain": [
              "286058.5"
            ]
          },
          "metadata": {},
          "execution_count": 4
        }
      ]
    },
    {
      "cell_type": "markdown",
      "metadata": {
        "id": "POAj5sBgd3gd"
      },
      "source": [
        "#<u>**Problem 2**</u>\n",
        "\n",
        "### In this problem, we are going to calculate distances between some pairs of points :\n",
        "\n",
        "### <u> Measures of distances </u>\n",
        "* ### Euclidean Distance : The distance between two points $(x_{1},y_{1})$ , $(x_{2},y_{2})$ is defined as :\n",
        "${\\displaystyle d(x,y)={\\sqrt {(x_{1}-x_{2})^{2}+(y_{1}-y_{2})^{2}}}.}$\n",
        "\n",
        "* ### Manhattan Distance : The distance between two points $(x_{1},y_{1})$ , $(x_{2},y_{2})$ is defined as :\n",
        "${\\displaystyle d(x,y)=|x_{1}-x_{2}|+|y_{1}-y_{2}|}$\n"
      ]
    },
    {
      "cell_type": "markdown",
      "metadata": {
        "id": "lw7TLsfd-eXc"
      },
      "source": [
        "### Create a 2-D array of 10 points where the x-coordinates and the y-coordinates can take random integral values between 5 and 20.\n",
        "\n",
        "\n",
        "### Next, create two 1-D arrays(one for  Euclidean distance and the other for  Manhattan distance) for these points\n"
      ]
    },
    {
      "cell_type": "code",
      "metadata": {
        "id": "TOEq4PEP5y8X",
        "colab": {
          "base_uri": "https://localhost:8080/"
        },
        "outputId": "6132c502-c273-44a1-8a6e-c44589b7ad81"
      },
      "source": [
        "# Create the 10 points\n",
        "a = np.random.randint(5,20,(10,2))\n",
        "a"
      ],
      "execution_count": 5,
      "outputs": [
        {
          "output_type": "execute_result",
          "data": {
            "text/plain": [
              "array([[19, 12],\n",
              "       [10, 16],\n",
              "       [ 7, 12],\n",
              "       [10, 19],\n",
              "       [ 5,  9],\n",
              "       [ 7,  7],\n",
              "       [ 5, 14],\n",
              "       [16,  6],\n",
              "       [ 5,  8],\n",
              "       [ 6,  8]])"
            ]
          },
          "metadata": {},
          "execution_count": 5
        }
      ]
    },
    {
      "cell_type": "code",
      "metadata": {
        "id": "n86qvsfF6PO2",
        "colab": {
          "base_uri": "https://localhost:8080/"
        },
        "outputId": "58248f3b-6c4d-4d49-e778-eff279ef4e8b"
      },
      "source": [
        "# Calculate Euclidean distances between these pairs of points (total 10*10 = 100 pairs including self pairs). This should give you a 10*10 2-D array where each value corresponds to the distance between a pair\n",
        "def euclidean_distance(point1,point2):\n",
        "  x1,y1 = point1\n",
        "  x2,y2 = point2\n",
        "  return round(((x2-x1)**2+(y2-y1)**2)**0.5,2)\n",
        "\n",
        "ed = []\n",
        "for i in range(10):\n",
        "  il = []\n",
        "  for j in range(10):\n",
        "    il.append(euclidean_distance(a[i],a[j]))\n",
        "  ed.append(np.asarray(il))\n",
        "ed = np.asarray(ed)\n",
        "print(ed)\n",
        "\n",
        "\n",
        "\n"
      ],
      "execution_count": 6,
      "outputs": [
        {
          "output_type": "stream",
          "name": "stdout",
          "text": [
            "[[ 0.    9.85 12.   11.4  14.32 13.   14.14  6.71 14.56 13.6 ]\n",
            " [ 9.85  0.    5.    3.    8.6   9.49  5.39 11.66  9.43  8.94]\n",
            " [12.    5.    0.    7.62  3.61  5.    2.83 10.82  4.47  4.12]\n",
            " [11.4   3.    7.62  0.   11.18 12.37  7.07 14.32 12.08 11.7 ]\n",
            " [14.32  8.6   3.61 11.18  0.    2.83  5.   11.4   1.    1.41]\n",
            " [13.    9.49  5.   12.37  2.83  0.    7.28  9.06  2.24  1.41]\n",
            " [14.14  5.39  2.83  7.07  5.    7.28  0.   13.6   6.    6.08]\n",
            " [ 6.71 11.66 10.82 14.32 11.4   9.06 13.6   0.   11.18 10.2 ]\n",
            " [14.56  9.43  4.47 12.08  1.    2.24  6.   11.18  0.    1.  ]\n",
            " [13.6   8.94  4.12 11.7   1.41  1.41  6.08 10.2   1.    0.  ]]\n"
          ]
        }
      ]
    },
    {
      "cell_type": "code",
      "metadata": {
        "id": "-FIU9Wp97V3P",
        "colab": {
          "base_uri": "https://localhost:8080/"
        },
        "outputId": "6e2ab063-bec8-47f0-b4bf-b022754afc40"
      },
      "source": [
        "# Calculate Manhattan distances between these pairs of points (total 10*10 = 100 pairs inlcuding self pairs).This should give you a 10*10 2-D array where each value corresponds to the distance between a pair.\n",
        "def manhat(point1, point2):\n",
        "  x1,y1 = point1\n",
        "  x2,y2 = point2 \n",
        "  return round(abs((x2-x1)+(y2-y1)))\n",
        "\n",
        "mh = []\n",
        "for i in range(10):\n",
        "  il = []\n",
        "  for j in range(10):\n",
        "    il.append(manhat(a[i],a[j]))\n",
        "  mh.append(np.asarray(il))\n",
        "mh=np.asarray(mh)\n",
        "print(mh)\n",
        "\n",
        "\n",
        "\n"
      ],
      "execution_count": 7,
      "outputs": [
        {
          "output_type": "stream",
          "name": "stdout",
          "text": [
            "[[ 0  5 12  2 17 17 12  9 18 17]\n",
            " [ 5  0  7  3 12 12  7  4 13 12]\n",
            " [12  7  0 10  5  5  0  3  6  5]\n",
            " [ 2  3 10  0 15 15 10  7 16 15]\n",
            " [17 12  5 15  0  0  5  8  1  0]\n",
            " [17 12  5 15  0  0  5  8  1  0]\n",
            " [12  7  0 10  5  5  0  3  6  5]\n",
            " [ 9  4  3  7  8  8  3  0  9  8]\n",
            " [18 13  6 16  1  1  6  9  0  1]\n",
            " [17 12  5 15  0  0  5  8  1  0]]\n"
          ]
        },
        {
          "output_type": "execute_result",
          "data": {
            "text/plain": [
              "(10, 10)"
            ]
          },
          "metadata": {},
          "execution_count": 7
        }
      ]
    },
    {
      "cell_type": "markdown",
      "metadata": {
        "id": "5ZaKtQlZBLoQ"
      },
      "source": [
        "## Find the closest pairs (excluding self pairs) on the basis of both the distance measures"
      ]
    },
    {
      "cell_type": "code",
      "metadata": {
        "id": "AeKJGamV6qnu",
        "colab": {
          "base_uri": "https://localhost:8080/"
        },
        "outputId": "af25ac02-02be-46eb-874a-dfc0e0fcf2f4"
      },
      "source": [
        "# Your code here\n",
        "nearest_points_manhattan = []\n",
        "for index,arr in enumerate(mh+np.identity(10)*1000):\n",
        "  nearest_points_manhattan.append((a[index],a[arr.argmin()]))\n",
        "print(nearest_points_manhattan)\n",
        "\n",
        "nearest_points_ed = []\n",
        "for index,arr in enumerate(ed+np.identity(10)*1000):\n",
        "  nearest_points_ed.append((a[index],a[arr.argmin()]))\n",
        "print(nearest_points_ed)\n"
      ],
      "execution_count": 17,
      "outputs": [
        {
          "output_type": "stream",
          "name": "stdout",
          "text": [
            "[(array([19, 12]), array([10, 19])), (array([10, 16]), array([10, 19])), (array([ 7, 12]), array([ 5, 14])), (array([10, 19]), array([19, 12])), (array([5, 9]), array([7, 7])), (array([7, 7]), array([5, 9])), (array([ 5, 14]), array([ 7, 12])), (array([16,  6]), array([ 7, 12])), (array([5, 8]), array([5, 9])), (array([6, 8]), array([5, 9]))]\n",
            "[(array([19, 12]), array([16,  6])), (array([10, 16]), array([10, 19])), (array([ 7, 12]), array([ 5, 14])), (array([10, 19]), array([10, 16])), (array([5, 9]), array([5, 8])), (array([7, 7]), array([6, 8])), (array([ 5, 14]), array([ 7, 12])), (array([16,  6]), array([19, 12])), (array([5, 8]), array([5, 9])), (array([6, 8]), array([5, 8]))]\n"
          ]
        }
      ]
    },
    {
      "cell_type": "markdown",
      "metadata": {
        "id": "rnEIpxdzfIhF"
      },
      "source": [
        "# <u>**Problem 3**</u>\n",
        "\n",
        "## Extract all the contiguous 3x3 blocks from a random 10x10 matrix. For example, the first matrix corresponds to [:3,:3], then the second matrix corresponds to [:3,1:4],.... Once you have covered the first three rows, then the next set of matrices would be [1:4,:3],[1:4,1:4],.... and so on and so forth. The last matrix would be [7:10,7:10]"
      ]
    },
    {
      "cell_type": "code",
      "metadata": {
        "id": "NuQh8LLBma-0",
        "colab": {
          "base_uri": "https://localhost:8080/"
        },
        "outputId": "27e1523c-197c-4186-f2df-d543b67b4d6d"
      },
      "source": [
        "from numpy.random.mtrand import rand\n",
        "# Your code below ..\n",
        "random_array = np.random.randint(1,100,size=(10,10))\n",
        "print(random_array)\n",
        "contiguous = []\n",
        "for row in range(0,8):\n",
        "  for col in range(0,8):\n",
        "    contiguous.append(random_array[row:row+3,col:col+3])\n",
        "\n",
        "ca = np.asarray(contiguous)\n",
        "print(ca)\n",
        "\n",
        "\n",
        "\n",
        "\n",
        "\n",
        "\n",
        "\n"
      ],
      "execution_count": 24,
      "outputs": [
        {
          "output_type": "stream",
          "name": "stdout",
          "text": [
            "[[ 8 23 97 67 12 42 32  7 83 26]\n",
            " [12 52 90 51 51 14 59 64  6 23]\n",
            " [41 79 36 44 56  2 78 46 64 65]\n",
            " [27 41 86 54 19 81 56 99 81  5]\n",
            " [84 30 21 56 41 36 40 14 31 97]\n",
            " [19 38  7  3 84 51 32 47 35 93]\n",
            " [93 13 14 81 16 48 16 17 92 13]\n",
            " [41 34 40 62  7 14  3  9 24 87]\n",
            " [98 51 74 84 97  1 62 43 69 13]\n",
            " [73 15 46 58 85 84 53 21 33 83]]\n",
            "[[[ 8 23 97]\n",
            "  [12 52 90]\n",
            "  [41 79 36]]\n",
            "\n",
            " [[23 97 67]\n",
            "  [52 90 51]\n",
            "  [79 36 44]]\n",
            "\n",
            " [[97 67 12]\n",
            "  [90 51 51]\n",
            "  [36 44 56]]\n",
            "\n",
            " [[67 12 42]\n",
            "  [51 51 14]\n",
            "  [44 56  2]]\n",
            "\n",
            " [[12 42 32]\n",
            "  [51 14 59]\n",
            "  [56  2 78]]\n",
            "\n",
            " [[42 32  7]\n",
            "  [14 59 64]\n",
            "  [ 2 78 46]]\n",
            "\n",
            " [[32  7 83]\n",
            "  [59 64  6]\n",
            "  [78 46 64]]\n",
            "\n",
            " [[ 7 83 26]\n",
            "  [64  6 23]\n",
            "  [46 64 65]]\n",
            "\n",
            " [[12 52 90]\n",
            "  [41 79 36]\n",
            "  [27 41 86]]\n",
            "\n",
            " [[52 90 51]\n",
            "  [79 36 44]\n",
            "  [41 86 54]]\n",
            "\n",
            " [[90 51 51]\n",
            "  [36 44 56]\n",
            "  [86 54 19]]\n",
            "\n",
            " [[51 51 14]\n",
            "  [44 56  2]\n",
            "  [54 19 81]]\n",
            "\n",
            " [[51 14 59]\n",
            "  [56  2 78]\n",
            "  [19 81 56]]\n",
            "\n",
            " [[14 59 64]\n",
            "  [ 2 78 46]\n",
            "  [81 56 99]]\n",
            "\n",
            " [[59 64  6]\n",
            "  [78 46 64]\n",
            "  [56 99 81]]\n",
            "\n",
            " [[64  6 23]\n",
            "  [46 64 65]\n",
            "  [99 81  5]]\n",
            "\n",
            " [[41 79 36]\n",
            "  [27 41 86]\n",
            "  [84 30 21]]\n",
            "\n",
            " [[79 36 44]\n",
            "  [41 86 54]\n",
            "  [30 21 56]]\n",
            "\n",
            " [[36 44 56]\n",
            "  [86 54 19]\n",
            "  [21 56 41]]\n",
            "\n",
            " [[44 56  2]\n",
            "  [54 19 81]\n",
            "  [56 41 36]]\n",
            "\n",
            " [[56  2 78]\n",
            "  [19 81 56]\n",
            "  [41 36 40]]\n",
            "\n",
            " [[ 2 78 46]\n",
            "  [81 56 99]\n",
            "  [36 40 14]]\n",
            "\n",
            " [[78 46 64]\n",
            "  [56 99 81]\n",
            "  [40 14 31]]\n",
            "\n",
            " [[46 64 65]\n",
            "  [99 81  5]\n",
            "  [14 31 97]]\n",
            "\n",
            " [[27 41 86]\n",
            "  [84 30 21]\n",
            "  [19 38  7]]\n",
            "\n",
            " [[41 86 54]\n",
            "  [30 21 56]\n",
            "  [38  7  3]]\n",
            "\n",
            " [[86 54 19]\n",
            "  [21 56 41]\n",
            "  [ 7  3 84]]\n",
            "\n",
            " [[54 19 81]\n",
            "  [56 41 36]\n",
            "  [ 3 84 51]]\n",
            "\n",
            " [[19 81 56]\n",
            "  [41 36 40]\n",
            "  [84 51 32]]\n",
            "\n",
            " [[81 56 99]\n",
            "  [36 40 14]\n",
            "  [51 32 47]]\n",
            "\n",
            " [[56 99 81]\n",
            "  [40 14 31]\n",
            "  [32 47 35]]\n",
            "\n",
            " [[99 81  5]\n",
            "  [14 31 97]\n",
            "  [47 35 93]]\n",
            "\n",
            " [[84 30 21]\n",
            "  [19 38  7]\n",
            "  [93 13 14]]\n",
            "\n",
            " [[30 21 56]\n",
            "  [38  7  3]\n",
            "  [13 14 81]]\n",
            "\n",
            " [[21 56 41]\n",
            "  [ 7  3 84]\n",
            "  [14 81 16]]\n",
            "\n",
            " [[56 41 36]\n",
            "  [ 3 84 51]\n",
            "  [81 16 48]]\n",
            "\n",
            " [[41 36 40]\n",
            "  [84 51 32]\n",
            "  [16 48 16]]\n",
            "\n",
            " [[36 40 14]\n",
            "  [51 32 47]\n",
            "  [48 16 17]]\n",
            "\n",
            " [[40 14 31]\n",
            "  [32 47 35]\n",
            "  [16 17 92]]\n",
            "\n",
            " [[14 31 97]\n",
            "  [47 35 93]\n",
            "  [17 92 13]]\n",
            "\n",
            " [[19 38  7]\n",
            "  [93 13 14]\n",
            "  [41 34 40]]\n",
            "\n",
            " [[38  7  3]\n",
            "  [13 14 81]\n",
            "  [34 40 62]]\n",
            "\n",
            " [[ 7  3 84]\n",
            "  [14 81 16]\n",
            "  [40 62  7]]\n",
            "\n",
            " [[ 3 84 51]\n",
            "  [81 16 48]\n",
            "  [62  7 14]]\n",
            "\n",
            " [[84 51 32]\n",
            "  [16 48 16]\n",
            "  [ 7 14  3]]\n",
            "\n",
            " [[51 32 47]\n",
            "  [48 16 17]\n",
            "  [14  3  9]]\n",
            "\n",
            " [[32 47 35]\n",
            "  [16 17 92]\n",
            "  [ 3  9 24]]\n",
            "\n",
            " [[47 35 93]\n",
            "  [17 92 13]\n",
            "  [ 9 24 87]]\n",
            "\n",
            " [[93 13 14]\n",
            "  [41 34 40]\n",
            "  [98 51 74]]\n",
            "\n",
            " [[13 14 81]\n",
            "  [34 40 62]\n",
            "  [51 74 84]]\n",
            "\n",
            " [[14 81 16]\n",
            "  [40 62  7]\n",
            "  [74 84 97]]\n",
            "\n",
            " [[81 16 48]\n",
            "  [62  7 14]\n",
            "  [84 97  1]]\n",
            "\n",
            " [[16 48 16]\n",
            "  [ 7 14  3]\n",
            "  [97  1 62]]\n",
            "\n",
            " [[48 16 17]\n",
            "  [14  3  9]\n",
            "  [ 1 62 43]]\n",
            "\n",
            " [[16 17 92]\n",
            "  [ 3  9 24]\n",
            "  [62 43 69]]\n",
            "\n",
            " [[17 92 13]\n",
            "  [ 9 24 87]\n",
            "  [43 69 13]]\n",
            "\n",
            " [[41 34 40]\n",
            "  [98 51 74]\n",
            "  [73 15 46]]\n",
            "\n",
            " [[34 40 62]\n",
            "  [51 74 84]\n",
            "  [15 46 58]]\n",
            "\n",
            " [[40 62  7]\n",
            "  [74 84 97]\n",
            "  [46 58 85]]\n",
            "\n",
            " [[62  7 14]\n",
            "  [84 97  1]\n",
            "  [58 85 84]]\n",
            "\n",
            " [[ 7 14  3]\n",
            "  [97  1 62]\n",
            "  [85 84 53]]\n",
            "\n",
            " [[14  3  9]\n",
            "  [ 1 62 43]\n",
            "  [84 53 21]]\n",
            "\n",
            " [[ 3  9 24]\n",
            "  [62 43 69]\n",
            "  [53 21 33]]\n",
            "\n",
            " [[ 9 24 87]\n",
            "  [43 69 13]\n",
            "  [21 33 83]]]\n"
          ]
        }
      ]
    },
    {
      "cell_type": "markdown",
      "metadata": {
        "id": "UtGDDH9Qq_2M"
      },
      "source": [
        "#<u>**Problem 4**</u>\n",
        "\n",
        "### Write a function which finds the nearest value from a given value in an array of random N elements. Suppose you created an 1-D array with 15 elements taking values between 10 and 500. Your function would take any input from these values and return the nearest value. (You can use np.abs() function)"
      ]
    },
    {
      "cell_type": "code",
      "metadata": {
        "id": "oknMAmKWFNSX"
      },
      "source": [
        "# Your function below\n",
        "\n",
        "\n",
        "\n"
      ],
      "execution_count": null,
      "outputs": []
    }
  ]
}