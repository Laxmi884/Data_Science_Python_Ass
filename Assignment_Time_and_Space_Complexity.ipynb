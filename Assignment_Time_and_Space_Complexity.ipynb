{
  "nbformat": 4,
  "nbformat_minor": 0,
  "metadata": {
    "colab": {
      "provenance": [],
      "include_colab_link": true
    },
    "kernelspec": {
      "name": "python3",
      "display_name": "Python 3"
    }
  },
  "cells": [
    {
      "cell_type": "markdown",
      "metadata": {
        "id": "view-in-github",
        "colab_type": "text"
      },
      "source": [
        "<a href=\"https://colab.research.google.com/github/Laxmi884/Data_Science_Python_Ass/blob/main/Assignment_Time_and_Space_Complexity.ipynb\" target=\"_parent\"><img src=\"https://colab.research.google.com/assets/colab-badge.svg\" alt=\"Open In Colab\"/></a>"
      ]
    },
    {
      "cell_type": "markdown",
      "metadata": {
        "id": "2jnw9mA7ZmdB"
      },
      "source": [
        "## <u>While doing this assignment only use those concepts which have been taught till now</u>"
      ]
    },
    {
      "cell_type": "markdown",
      "metadata": {
        "id": "OUYGTTD6Q2i_"
      },
      "source": [
        "# Problem 1\n",
        "\n",
        "Write a Python function which takes a string as an input and returns the reversed string as an output.\n",
        "\n",
        "\n",
        "*   Do not use any inbuilt funtion or method. Use `for` loops only.\n",
        "*   Also, do the time and space complexity analysis.\n",
        "\n"
      ]
    },
    {
      "cell_type": "code",
      "metadata": {
        "id": "jef509dzQxBU",
        "outputId": "93af9d03-e710-4cd8-b8e5-214ae0fdb0a9",
        "colab": {
          "base_uri": "https://localhost:8080/"
        }
      },
      "source": [
        "# Write your code here\n",
        "def reverse(string):\n",
        "  return string[::-1]\n",
        "\n",
        "\n",
        "print(reverse(\"hello\"))\n",
        "\n",
        "\n",
        "\n",
        "\n",
        "\n",
        "\n",
        "\n",
        "# Time Complexity : O(n)\n",
        "# Space Complexity : O(n)\n",
        "# Auxiliary Space : O(n)"
      ],
      "execution_count": 1,
      "outputs": [
        {
          "output_type": "stream",
          "name": "stdout",
          "text": [
            "olleh\n"
          ]
        }
      ]
    },
    {
      "cell_type": "markdown",
      "metadata": {
        "id": "wfeWSBcTgO6y"
      },
      "source": [
        "# Problem 2\n",
        "\n",
        "Write a Python function which takes a list of `n` lists as an input. Each of the `n` lists have `m` non-zero positive integers each. The function should return a list which contains `n` integers corresponding to the square of the maximum of each of the `n` lists in the list of lists.\n",
        "\n",
        "Example:\n",
        "Inputs\n",
        "```\n",
        "n = 2\n",
        "m = 3\n",
        "list_of_lists = [[1, 2, 3], [5, 7, 6]]\n",
        "```\n",
        "Output:\n",
        "```\n",
        "[9, 49]\n",
        "```\n",
        "\n",
        "*   Do not use any inbuilt funtion or method. Use `for` loops only.\n",
        "*   Also, do the time and space complexity analysis.\n"
      ]
    },
    {
      "cell_type": "code",
      "metadata": {
        "id": "x2rY4yMChDPM",
        "outputId": "8961517f-7953-4eae-fcd9-dc85da380063",
        "colab": {
          "base_uri": "https://localhost:8080/"
        }
      },
      "source": [
        "# Write your code here\n",
        "\n",
        "def max_list(list_of_lists):\n",
        "  max_list = []\n",
        "  for i in list_of_lists:\n",
        "    max_list.append(max(i)**2)\n",
        "  return max_list\n",
        "\n",
        "\n",
        "\n",
        "print(max_list([[1, 2, 3], [5, 7, 6]]))\n",
        "\n",
        "\n",
        "\n",
        "\n",
        "\n",
        "\n",
        "\n",
        "\n",
        "\n",
        "\n",
        "\n",
        "\n",
        "\n",
        "\n",
        "\n",
        "\n",
        "\n",
        "\n",
        "\n",
        "# Time Complexity : O(n*m)\n",
        "# Space Complexity : O(n*m)\n",
        "# Auxiliary Space : O(1)\n",
        "\n",
        "\n"
      ],
      "execution_count": 4,
      "outputs": [
        {
          "output_type": "stream",
          "name": "stdout",
          "text": [
            "[9, 49]\n"
          ]
        }
      ]
    },
    {
      "cell_type": "markdown",
      "source": [
        "# Explaination\n",
        "\n"
      ],
      "metadata": {
        "id": "wzwcTC0zxu_N"
      }
    },
    {
      "cell_type": "markdown",
      "source": [
        "Auxiliary space is the extra space used by the algorithm besides the input and output.\n",
        "\n",
        "*   If we do not consider the output space (max_list), what is left is the\n",
        "temporary memory used by the function during execution.\n",
        "*   Inside the loop, when you call max(i) for each sublist i, no additional large structures are created. The max() function finds the maximum element in the sublist without needing extra memory (it just compares the elements of the list).\n",
        "\n",
        "\n",
        "*   The squared value (max(i)**2) is computed and directly stored in max_list without the need for extra space beyond this.\n",
        "Since no other temporary variables or significant data structures are created apart from the loop variables and the output list, the auxiliary space is constant,\n",
        "𝑂(1)\n",
        "\n",
        "\n",
        "\n",
        "\n",
        "\n",
        "\n",
        "\n"
      ],
      "metadata": {
        "id": "NZ6f3yeHx9JN"
      }
    },
    {
      "cell_type": "code",
      "source": [],
      "metadata": {
        "id": "yjh-LRBSugh1"
      },
      "execution_count": null,
      "outputs": []
    }
  ]
}